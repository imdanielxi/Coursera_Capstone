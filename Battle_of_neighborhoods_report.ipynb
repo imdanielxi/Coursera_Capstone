{
 "cells": [
  {
   "cell_type": "markdown",
   "metadata": {},
   "source": [
    "# Introduction\n",
    "The legalization of Marijuana in California has presented many with an opportunity to manifest what was previously just a hobby into a career they could be passionate about; as a result, we've seen the marijuana industry expand exponentially since its legalization. Take San Francisco for example: touted as one of the most progressive areas in one of the most liberal states, it's difficult to go out for a stroll without encountering at least one legal dispensary advertising its services. With all this competition in a relatively new field, is it still practical for aspiring entrepreneurs to invest their time into this industry? To this end, I will try to answer these questions in this project by analyzing the density of Marijuana dispensaries relative to other venues in 19 different San Francisco neighborhoods."
   ]
  },
  {
   "cell_type": "markdown",
   "metadata": {},
   "source": [
    "# Data\n",
    "\n",
    "This project requires two different data sources:\n",
    "\n",
    "1. SF neighborhood data will be retrieved via webscraping on Wikipedia.com.\n",
    "2. Venue data will be sourced via FourSquare"
   ]
  },
  {
   "cell_type": "markdown",
   "metadata": {},
   "source": [
    "# Methodology\n",
    "\n",
    "1. First, I'll retrieve data about San Francisco and its neighborhoods via webscraping. Unfortunately, the data isn't formatted as a table already, so we'll use the BeautifulSoup package to extract the contents of each neighborhood and convert it into a pandas dataframe. We'll use the geocoder package to retrieve geographical coordinates for each of the neighborhoods, to ensure that the venue data extracted via Foursquare later will be compatible. \n",
    "\n",
    "2. Second, we'll extract data from the FourSquare API to find venues within a radius of 2000 from each of our neighborhoods. We'll analyze the results by grouping the venues together by neighborhood, and finding the average frequency/ density of each category of venue for every neighborhood.\n",
    "\n",
    "3. Finally, we'll use k-means clustering to identify and analyze the density of marijuana dispensaries within each neighborhood; we'll communicate our analysis and results via a geospatial map. "
   ]
  },
  {
   "cell_type": "markdown",
   "metadata": {},
   "source": [
    "# Results\n",
    "\n",
    "We've clustered our neighborhoods into 3 distinct clusters:\n",
    "\n",
    "0.  represents neighborhoods with a high density of marijuana dispensaries (4 total)\n",
    "1.  represents neighborhoods with a low - nonexistent density of marijuana dispensaries (12 total)\n",
    "2.  represents neighborhoods with a moderate density of marijuana dispensaries (3 total)"
   ]
  },
  {
   "cell_type": "markdown",
   "metadata": {},
   "source": [
    "# Discussion & Conclusion\n",
    "\n",
    "As evidenced by the results, it definitely is not too late to jump into the industry, as many neighborhoods don't have a single local marijuana dispensary. To this end, the entrepreneur would have to define his interests and plan accordingly: set up shop in a neighborhood with no competition, or an area that has a dispensary and an established community of patrons? Either choice has its advantages. \n",
    "\n"
   ]
  },
  {
   "cell_type": "markdown",
   "metadata": {},
   "source": [
    "However, I think it would be advantageous to set up a dispensary in the upper east corner of San Francisco; in particular, the neighborhood of North Beach in my opinion would be an ideal spot to set up an establishment. It's directly in the middle of a cluster of 5 neighborhoods with absolutely no dispensaries nearby, and could probably generate a lot of traffic due to its advantageous location alone. "
   ]
  },
  {
   "cell_type": "code",
   "execution_count": null,
   "metadata": {},
   "outputs": [],
   "source": []
  }
 ],
 "metadata": {
  "kernelspec": {
   "display_name": "Python 3",
   "language": "python",
   "name": "python3"
  },
  "language_info": {
   "codemirror_mode": {
    "name": "ipython",
    "version": 3
   },
   "file_extension": ".py",
   "mimetype": "text/x-python",
   "name": "python",
   "nbconvert_exporter": "python",
   "pygments_lexer": "ipython3",
   "version": "3.7.3"
  }
 },
 "nbformat": 4,
 "nbformat_minor": 2
}
